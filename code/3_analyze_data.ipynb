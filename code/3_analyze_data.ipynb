{
 "cells": [
  {
   "cell_type": "markdown",
   "metadata": {},
   "source": [
    "### Import packages"
   ]
  },
  {
   "cell_type": "code",
   "execution_count": 1,
   "metadata": {},
   "outputs": [],
   "source": [
    "import pandas as pd; import os; from analysis_helpers import *; import warnings\n",
    "from analysis_helpers import *\n",
    "warnings.filterwarnings('ignore')\n",
    "import seaborn as sb\n",
    "import numpy as np\n",
    "from scipy.interpolate import pchip\n",
    "import matplotlib.pyplot as plt\n",
    "from scipy.signal import argrelextrema\n",
    "import numpy as np\n",
    "import scipy as sp\n",
    "from scipy.interpolate import interp1d\n",
    "from scipy.signal import argrelextrema\n",
    "import pingouin"
   ]
  },
  {
   "cell_type": "markdown",
   "metadata": {},
   "source": [
    "### Load data"
   ]
  },
  {
   "cell_type": "code",
   "execution_count": 2,
   "metadata": {},
   "outputs": [],
   "source": [
    "b     = pd.read_csv('behavioral.csv') \n",
    "d_nov = pd.read_csv('d_nov_MEM_mg_new_b.csv')"
   ]
  },
  {
   "cell_type": "markdown",
   "metadata": {},
   "source": [
    "### Add last-cued category to memory trials"
   ]
  },
  {
   "cell_type": "code",
   "execution_count": 3,
   "metadata": {},
   "outputs": [],
   "source": [
    "for idx,x in b[(b['Trial']==9)&(b['Trial Type']=='Presentation')].iterrows():\n",
    "    b.loc[(b['UniqueID']==x['UniqueID']) &(b['Run']==x['Run'])\n",
    "         &(b['Trial Type']=='Memory'),'Cued Category'] = x['Cued Category']"
   ]
  },
  {
   "cell_type": "markdown",
   "metadata": {},
   "source": [
    "### Change 'Novel' label to novel_cued_cat and novel_uncued_cat"
   ]
  },
  {
   "cell_type": "code",
   "execution_count": 4,
   "metadata": {},
   "outputs": [],
   "source": [
    "b.loc[(b['Attention Level']=='Novel') & (b['Cued Category']=='Face' ) & (b['Category']=='Face' ), 'Attention Level'] = 'Novel_Cued_Cat'\n",
    "b.loc[(b['Attention Level']=='Novel') & (b['Cued Category']=='Place') & (b['Category']=='Place'), 'Attention Level'] = 'Novel_Cued_Cat'\n",
    "b.loc[(b['Attention Level']=='Novel') & (b['Cued Category']=='Face' ) & (b['Category']=='Place'), 'Attention Level'] = 'Novel_Uncued_Cat'\n",
    "b.loc[(b['Attention Level']=='Novel') & (b['Cued Category']=='Place') & (b['Category']=='Face' ), 'Attention Level'] = 'Novel_Uncued_Cat'  "
   ]
  },
  {
   "cell_type": "markdown",
   "metadata": {},
   "source": [
    "### Separate behavioral and variable "
   ]
  },
  {
   "cell_type": "code",
   "execution_count": 5,
   "metadata": {},
   "outputs": [],
   "source": [
    "bvar = b[(b['UniqueID']>=30)] \n",
    "bsus = b[(b['UniqueID']<=29)] "
   ]
  },
  {
   "cell_type": "markdown",
   "metadata": {},
   "source": [
    "### All images, Variable --> significant effect of Category, Attention Level, and interaction"
   ]
  },
  {
   "cell_type": "code",
   "execution_count": 6,
   "metadata": {},
   "outputs": [
    {
     "data": {
      "text/html": [
       "<div>\n",
       "<style scoped>\n",
       "    .dataframe tbody tr th:only-of-type {\n",
       "        vertical-align: middle;\n",
       "    }\n",
       "\n",
       "    .dataframe tbody tr th {\n",
       "        vertical-align: top;\n",
       "    }\n",
       "\n",
       "    .dataframe thead th {\n",
       "        text-align: right;\n",
       "    }\n",
       "</style>\n",
       "<table border=\"1\" class=\"dataframe\">\n",
       "  <thead>\n",
       "    <tr style=\"text-align: right;\">\n",
       "      <th></th>\n",
       "      <th>Source</th>\n",
       "      <th>SS</th>\n",
       "      <th>ddof1</th>\n",
       "      <th>ddof2</th>\n",
       "      <th>MS</th>\n",
       "      <th>F</th>\n",
       "      <th>p-unc</th>\n",
       "      <th>p-GG-corr</th>\n",
       "      <th>np2</th>\n",
       "      <th>eps</th>\n",
       "    </tr>\n",
       "  </thead>\n",
       "  <tbody>\n",
       "    <tr>\n",
       "      <th>0</th>\n",
       "      <td>Category</td>\n",
       "      <td>3.458</td>\n",
       "      <td>1</td>\n",
       "      <td>22</td>\n",
       "      <td>3.458</td>\n",
       "      <td>10.893</td>\n",
       "      <td>3.258622e-03</td>\n",
       "      <td>3.258622e-03</td>\n",
       "      <td>0.331</td>\n",
       "      <td>1.000</td>\n",
       "    </tr>\n",
       "    <tr>\n",
       "      <th>1</th>\n",
       "      <td>Attention Level</td>\n",
       "      <td>13.437</td>\n",
       "      <td>5</td>\n",
       "      <td>110</td>\n",
       "      <td>2.687</td>\n",
       "      <td>27.730</td>\n",
       "      <td>4.463426e-18</td>\n",
       "      <td>8.250565e-09</td>\n",
       "      <td>0.558</td>\n",
       "      <td>0.418</td>\n",
       "    </tr>\n",
       "    <tr>\n",
       "      <th>2</th>\n",
       "      <td>Category * Attention Level</td>\n",
       "      <td>1.500</td>\n",
       "      <td>5</td>\n",
       "      <td>110</td>\n",
       "      <td>0.300</td>\n",
       "      <td>8.183</td>\n",
       "      <td>1.344844e-06</td>\n",
       "      <td>6.410325e-05</td>\n",
       "      <td>0.271</td>\n",
       "      <td>0.644</td>\n",
       "    </tr>\n",
       "  </tbody>\n",
       "</table>\n",
       "</div>"
      ],
      "text/plain": [
       "                       Source      SS  ddof1  ddof2     MS       F  \\\n",
       "0                    Category   3.458      1     22  3.458  10.893   \n",
       "1             Attention Level  13.437      5    110  2.687  27.730   \n",
       "2  Category * Attention Level   1.500      5    110  0.300   8.183   \n",
       "\n",
       "          p-unc     p-GG-corr    np2    eps  \n",
       "0  3.258622e-03  3.258622e-03  0.331  1.000  \n",
       "1  4.463426e-18  8.250565e-09  0.558  0.418  \n",
       "2  1.344844e-06  6.410325e-05  0.271  0.644  "
      ]
     },
     "execution_count": 6,
     "metadata": {},
     "output_type": "execute_result"
    }
   ],
   "source": [
    "# Variable Attention\n",
    "\n",
    "# groupby subject, attention level, category\n",
    "bot = bvar.groupby(['UniqueID','Attention Level','Category'],as_index=False).mean()\n",
    "\n",
    "# repeated measures anova --> familiarity_rating ~ category * attention_level\n",
    "pingouin.rm_anova(dv='Familiarity Rating', within=['Category','Attention Level'], subject='UniqueID', \n",
    "                  data=bot)"
   ]
  },
  {
   "cell_type": "markdown",
   "metadata": {},
   "source": [
    "### Follow up t-test (scene / face)"
   ]
  },
  {
   "cell_type": "code",
   "execution_count": 7,
   "metadata": {
    "scrolled": false
   },
   "outputs": [
    {
     "data": {
      "text/html": [
       "<div>\n",
       "<style scoped>\n",
       "    .dataframe tbody tr th:only-of-type {\n",
       "        vertical-align: middle;\n",
       "    }\n",
       "\n",
       "    .dataframe tbody tr th {\n",
       "        vertical-align: top;\n",
       "    }\n",
       "\n",
       "    .dataframe thead th {\n",
       "        text-align: right;\n",
       "    }\n",
       "</style>\n",
       "<table border=\"1\" class=\"dataframe\">\n",
       "  <thead>\n",
       "    <tr style=\"text-align: right;\">\n",
       "      <th></th>\n",
       "      <th>Contrast</th>\n",
       "      <th>Category</th>\n",
       "      <th>A</th>\n",
       "      <th>B</th>\n",
       "      <th>Paired</th>\n",
       "      <th>Parametric</th>\n",
       "      <th>T</th>\n",
       "      <th>dof</th>\n",
       "      <th>tail</th>\n",
       "      <th>p-unc</th>\n",
       "      <th>BF10</th>\n",
       "      <th>CLES</th>\n",
       "      <th>hedges</th>\n",
       "    </tr>\n",
       "  </thead>\n",
       "  <tbody>\n",
       "    <tr>\n",
       "      <th>0</th>\n",
       "      <td>Category</td>\n",
       "      <td>-</td>\n",
       "      <td>Face</td>\n",
       "      <td>Place</td>\n",
       "      <td>True</td>\n",
       "      <td>True</td>\n",
       "      <td>-6.057</td>\n",
       "      <td>136.0</td>\n",
       "      <td>two-sided</td>\n",
       "      <td>1.278449e-08</td>\n",
       "      <td>8.015e+05</td>\n",
       "      <td>0.617</td>\n",
       "      <td>-0.477</td>\n",
       "    </tr>\n",
       "  </tbody>\n",
       "</table>\n",
       "</div>"
      ],
      "text/plain": [
       "   Contrast Category     A      B  Paired  Parametric      T    dof  \\\n",
       "0  Category        -  Face  Place    True        True -6.057  136.0   \n",
       "\n",
       "        tail         p-unc       BF10   CLES  hedges  \n",
       "0  two-sided  1.278449e-08  8.015e+05  0.617  -0.477  "
      ]
     },
     "execution_count": 7,
     "metadata": {},
     "output_type": "execute_result"
    }
   ],
   "source": [
    "pingouin.pairwise_ttests(dv='Familiarity Rating', within=['Category','Attention Level'], subject='UniqueID', \n",
    "                         data=bot).head(n=1)"
   ]
  },
  {
   "cell_type": "markdown",
   "metadata": {},
   "source": [
    "### Novel images, Variable --> Trending towards sig diff between categories (not attention level)"
   ]
  },
  {
   "cell_type": "code",
   "execution_count": 8,
   "metadata": {},
   "outputs": [
    {
     "data": {
      "text/html": [
       "<div>\n",
       "<style scoped>\n",
       "    .dataframe tbody tr th:only-of-type {\n",
       "        vertical-align: middle;\n",
       "    }\n",
       "\n",
       "    .dataframe tbody tr th {\n",
       "        vertical-align: top;\n",
       "    }\n",
       "\n",
       "    .dataframe thead th {\n",
       "        text-align: right;\n",
       "    }\n",
       "</style>\n",
       "<table border=\"1\" class=\"dataframe\">\n",
       "  <thead>\n",
       "    <tr style=\"text-align: right;\">\n",
       "      <th></th>\n",
       "      <th>Contrast</th>\n",
       "      <th>A</th>\n",
       "      <th>B</th>\n",
       "      <th>Paired</th>\n",
       "      <th>Parametric</th>\n",
       "      <th>T</th>\n",
       "      <th>dof</th>\n",
       "      <th>tail</th>\n",
       "      <th>p-unc</th>\n",
       "      <th>BF10</th>\n",
       "      <th>CLES</th>\n",
       "      <th>hedges</th>\n",
       "    </tr>\n",
       "  </thead>\n",
       "  <tbody>\n",
       "    <tr>\n",
       "      <th>0</th>\n",
       "      <td>Category</td>\n",
       "      <td>Face</td>\n",
       "      <td>Place</td>\n",
       "      <td>True</td>\n",
       "      <td>True</td>\n",
       "      <td>-1.738</td>\n",
       "      <td>44.0</td>\n",
       "      <td>two-sided</td>\n",
       "      <td>0.089227</td>\n",
       "      <td>0.645</td>\n",
       "      <td>0.57</td>\n",
       "      <td>-0.237</td>\n",
       "    </tr>\n",
       "  </tbody>\n",
       "</table>\n",
       "</div>"
      ],
      "text/plain": [
       "   Contrast     A      B  Paired  Parametric      T   dof       tail  \\\n",
       "0  Category  Face  Place    True        True -1.738  44.0  two-sided   \n",
       "\n",
       "      p-unc   BF10  CLES  hedges  \n",
       "0  0.089227  0.645  0.57  -0.237  "
      ]
     },
     "execution_count": 8,
     "metadata": {},
     "output_type": "execute_result"
    }
   ],
   "source": [
    "pingouin.pairwise_ttests(dv='Familiarity Rating', within=['Category'], subject='UniqueID', \n",
    "                         data=bot[(bot['Attention Level'].isin(['Novel_Cued_Cat','Novel_Uncued_Cat']))])"
   ]
  },
  {
   "cell_type": "markdown",
   "metadata": {},
   "source": [
    "### All images, Sustained --> significant effect of Category, Attention Level, and interaction"
   ]
  },
  {
   "cell_type": "code",
   "execution_count": 9,
   "metadata": {},
   "outputs": [],
   "source": [
    "# # Sustained Attention\n",
    "\n",
    "# # groupby subject, attention level, category\n",
    "# bot = bsus.groupby(['UniqueID','Attention Level','Category'],as_index=False).mean()\n",
    "\n",
    "# # repeated measures anova --> familiarity_rating ~ category * attention_level\n",
    "# pingouin.rm_anova(dv='Familiarity Rating', within=['Category','Attention Level'], subject='UniqueID', \n",
    "#                   data=bot)"
   ]
  },
  {
   "cell_type": "code",
   "execution_count": 10,
   "metadata": {},
   "outputs": [],
   "source": [
    "# ts = pingouin.pairwise_ttests(dv='Familiarity Rating', within=['Category','Attention Level'], subject='UniqueID',data=bot)\n",
    "# ts[ts['p-unc']<.05]"
   ]
  },
  {
   "cell_type": "markdown",
   "metadata": {},
   "source": [
    "### Novel images, Sustained --> Significant diff for attention level, and interaction, but not category alone"
   ]
  },
  {
   "cell_type": "code",
   "execution_count": 11,
   "metadata": {},
   "outputs": [
    {
     "data": {
      "text/html": [
       "<div>\n",
       "<style scoped>\n",
       "    .dataframe tbody tr th:only-of-type {\n",
       "        vertical-align: middle;\n",
       "    }\n",
       "\n",
       "    .dataframe tbody tr th {\n",
       "        vertical-align: top;\n",
       "    }\n",
       "\n",
       "    .dataframe thead th {\n",
       "        text-align: right;\n",
       "    }\n",
       "</style>\n",
       "<table border=\"1\" class=\"dataframe\">\n",
       "  <thead>\n",
       "    <tr style=\"text-align: right;\">\n",
       "      <th></th>\n",
       "      <th>Source</th>\n",
       "      <th>SS</th>\n",
       "      <th>ddof1</th>\n",
       "      <th>ddof2</th>\n",
       "      <th>MS</th>\n",
       "      <th>F</th>\n",
       "      <th>p-unc</th>\n",
       "      <th>p-GG-corr</th>\n",
       "      <th>np2</th>\n",
       "      <th>eps</th>\n",
       "    </tr>\n",
       "  </thead>\n",
       "  <tbody>\n",
       "    <tr>\n",
       "      <th>0</th>\n",
       "      <td>Category</td>\n",
       "      <td>0.195</td>\n",
       "      <td>1</td>\n",
       "      <td>22</td>\n",
       "      <td>0.195</td>\n",
       "      <td>1.833</td>\n",
       "      <td>0.189540</td>\n",
       "      <td>0.189540</td>\n",
       "      <td>0.077</td>\n",
       "      <td>1.0</td>\n",
       "    </tr>\n",
       "    <tr>\n",
       "      <th>1</th>\n",
       "      <td>Attention Level</td>\n",
       "      <td>0.007</td>\n",
       "      <td>1</td>\n",
       "      <td>22</td>\n",
       "      <td>0.007</td>\n",
       "      <td>0.370</td>\n",
       "      <td>0.549419</td>\n",
       "      <td>0.549419</td>\n",
       "      <td>0.017</td>\n",
       "      <td>1.0</td>\n",
       "    </tr>\n",
       "    <tr>\n",
       "      <th>2</th>\n",
       "      <td>Category * Attention Level</td>\n",
       "      <td>0.004</td>\n",
       "      <td>1</td>\n",
       "      <td>22</td>\n",
       "      <td>0.004</td>\n",
       "      <td>0.240</td>\n",
       "      <td>0.628927</td>\n",
       "      <td>0.628927</td>\n",
       "      <td>0.011</td>\n",
       "      <td>1.0</td>\n",
       "    </tr>\n",
       "  </tbody>\n",
       "</table>\n",
       "</div>"
      ],
      "text/plain": [
       "                       Source     SS  ddof1  ddof2     MS      F     p-unc  \\\n",
       "0                    Category  0.195      1     22  0.195  1.833  0.189540   \n",
       "1             Attention Level  0.007      1     22  0.007  0.370  0.549419   \n",
       "2  Category * Attention Level  0.004      1     22  0.004  0.240  0.628927   \n",
       "\n",
       "   p-GG-corr    np2  eps  \n",
       "0   0.189540  0.077  1.0  \n",
       "1   0.549419  0.017  1.0  \n",
       "2   0.628927  0.011  1.0  "
      ]
     },
     "execution_count": 11,
     "metadata": {},
     "output_type": "execute_result"
    }
   ],
   "source": [
    "pingouin.rm_anova(dv='Familiarity Rating', within=['Category','Attention Level'], subject='UniqueID', \n",
    "                         data=bot[(bot['Attention Level'].isin(['Novel_Cued_Cat','Novel_Uncued_Cat']))])"
   ]
  },
  {
   "cell_type": "code",
   "execution_count": 12,
   "metadata": {},
   "outputs": [
    {
     "data": {
      "text/html": [
       "<div>\n",
       "<style scoped>\n",
       "    .dataframe tbody tr th:only-of-type {\n",
       "        vertical-align: middle;\n",
       "    }\n",
       "\n",
       "    .dataframe tbody tr th {\n",
       "        vertical-align: top;\n",
       "    }\n",
       "\n",
       "    .dataframe thead th {\n",
       "        text-align: right;\n",
       "    }\n",
       "</style>\n",
       "<table border=\"1\" class=\"dataframe\">\n",
       "  <thead>\n",
       "    <tr style=\"text-align: right;\">\n",
       "      <th></th>\n",
       "      <th>Contrast</th>\n",
       "      <th>Category</th>\n",
       "      <th>A</th>\n",
       "      <th>B</th>\n",
       "      <th>Paired</th>\n",
       "      <th>Parametric</th>\n",
       "      <th>T</th>\n",
       "      <th>dof</th>\n",
       "      <th>tail</th>\n",
       "      <th>p-unc</th>\n",
       "      <th>BF10</th>\n",
       "      <th>CLES</th>\n",
       "      <th>hedges</th>\n",
       "    </tr>\n",
       "  </thead>\n",
       "  <tbody>\n",
       "    <tr>\n",
       "      <th>0</th>\n",
       "      <td>Category</td>\n",
       "      <td>-</td>\n",
       "      <td>Face</td>\n",
       "      <td>Place</td>\n",
       "      <td>True</td>\n",
       "      <td>True</td>\n",
       "      <td>-1.738</td>\n",
       "      <td>44.00</td>\n",
       "      <td>two-sided</td>\n",
       "      <td>0.089227</td>\n",
       "      <td>0.645</td>\n",
       "      <td>0.570</td>\n",
       "      <td>-0.237</td>\n",
       "    </tr>\n",
       "    <tr>\n",
       "      <th>1</th>\n",
       "      <td>Attention Level</td>\n",
       "      <td>-</td>\n",
       "      <td>Novel_Cued_Cat</td>\n",
       "      <td>Novel_Uncued_Cat</td>\n",
       "      <td>True</td>\n",
       "      <td>True</td>\n",
       "      <td>-0.602</td>\n",
       "      <td>44.00</td>\n",
       "      <td>two-sided</td>\n",
       "      <td>0.549962</td>\n",
       "      <td>0.192</td>\n",
       "      <td>0.520</td>\n",
       "      <td>-0.046</td>\n",
       "    </tr>\n",
       "    <tr>\n",
       "      <th>2</th>\n",
       "      <td>Category * Attention Level</td>\n",
       "      <td>Face</td>\n",
       "      <td>Novel_Cued_Cat</td>\n",
       "      <td>Novel_Uncued_Cat</td>\n",
       "      <td>True</td>\n",
       "      <td>True</td>\n",
       "      <td>-0.133</td>\n",
       "      <td>42.87</td>\n",
       "      <td>two-sided</td>\n",
       "      <td>0.894585</td>\n",
       "      <td>0.297</td>\n",
       "      <td>0.502</td>\n",
       "      <td>-0.039</td>\n",
       "    </tr>\n",
       "    <tr>\n",
       "      <th>3</th>\n",
       "      <td>Category * Attention Level</td>\n",
       "      <td>Place</td>\n",
       "      <td>Novel_Cued_Cat</td>\n",
       "      <td>Novel_Uncued_Cat</td>\n",
       "      <td>True</td>\n",
       "      <td>True</td>\n",
       "      <td>-0.218</td>\n",
       "      <td>43.00</td>\n",
       "      <td>two-sided</td>\n",
       "      <td>0.828223</td>\n",
       "      <td>0.301</td>\n",
       "      <td>0.538</td>\n",
       "      <td>-0.064</td>\n",
       "    </tr>\n",
       "  </tbody>\n",
       "</table>\n",
       "</div>"
      ],
      "text/plain": [
       "                     Contrast Category               A                 B  \\\n",
       "0                    Category        -            Face             Place   \n",
       "1             Attention Level        -  Novel_Cued_Cat  Novel_Uncued_Cat   \n",
       "2  Category * Attention Level     Face  Novel_Cued_Cat  Novel_Uncued_Cat   \n",
       "3  Category * Attention Level    Place  Novel_Cued_Cat  Novel_Uncued_Cat   \n",
       "\n",
       "   Paired  Parametric      T    dof       tail     p-unc   BF10   CLES  hedges  \n",
       "0    True        True -1.738  44.00  two-sided  0.089227  0.645  0.570  -0.237  \n",
       "1    True        True -0.602  44.00  two-sided  0.549962  0.192  0.520  -0.046  \n",
       "2    True        True -0.133  42.87  two-sided  0.894585  0.297  0.502  -0.039  \n",
       "3    True        True -0.218  43.00  two-sided  0.828223  0.301  0.538  -0.064  "
      ]
     },
     "execution_count": 12,
     "metadata": {},
     "output_type": "execute_result"
    }
   ],
   "source": [
    "pingouin.pairwise_ttests(dv='Familiarity Rating', within=['Category','Attention Level'], subject='UniqueID', \n",
    "                         data=bot[(bot['Attention Level'].isin(['Novel_Cued_Cat','Novel_Uncued_Cat']))])\n"
   ]
  },
  {
   "cell_type": "markdown",
   "metadata": {},
   "source": [
    "<hr>\n",
    "\n",
    "# Behavioral recap\n",
    "\n",
    "In both experiments, category, attention level, and interaction all influence familiarity.\n",
    "\n",
    "#### Within novel images:\n",
    "\n",
    "<b>variable:</b> only category has an influence.\n",
    "\n",
    "<b>sustained:</b> only attention level and interaction have an influence?\n",
    "\n",
    "<hr>"
   ]
  },
  {
   "cell_type": "markdown",
   "metadata": {},
   "source": [
    "# Pupil data"
   ]
  },
  {
   "cell_type": "code",
   "execution_count": 13,
   "metadata": {},
   "outputs": [],
   "source": [
    "# Label Variable and Sustained participants\n",
    "d_nov['Experiment'] = np.nan\n",
    "d_nov.loc[d_nov['UniqueID']<=29, 'Experiment'] = 'Sustained'\n",
    "d_nov.loc[d_nov['UniqueID']>=30, 'Experiment'] = 'Variable'"
   ]
  },
  {
   "cell_type": "markdown",
   "metadata": {},
   "source": [
    "# Mean chunking\n",
    "\n",
    "Calculate the mean pupil dilation value across the average timecourse for desired image type, then make time bins base on chunks where average timecourse at each timepoint is above or below the overall (collapsed) mean"
   ]
  },
  {
   "cell_type": "markdown",
   "metadata": {},
   "source": [
    "### Both experiments: mean chunking for previously seen images"
   ]
  },
  {
   "cell_type": "code",
   "execution_count": 14,
   "metadata": {},
   "outputs": [
    {
     "data": {
      "image/png": "[encoded data removed]",
      "text/plain": [
       "<Figure size 216x288 with 1 Axes>"
      ]
     },
     "metadata": {
      "needs_background": "light"
     },
     "output_type": "display_data"
    }
   ],
   "source": [
    "# group gaze data by experiment, participant, time, attention level\n",
    "attn_group = d_nov.groupby(['Experiment','UniqueID','Time',\n",
    "                            'Attention Level'], as_index=False).mean()\n",
    "\n",
    "plt.figure(figsize=(3, 4));  \n",
    "\n",
    "# group prev seen images by participant and timepoint\n",
    "data=attn_group[(attn_group['Attention Level'].isin(['Full',\n",
    "                                                     'Category',\n",
    "                                                     'Side',\n",
    "                                                     'None']))].groupby(['UniqueID','Time'], as_index=False).mean()\n",
    "\n",
    "\n",
    "# sub_mean df has mean across all participants at each timepoint\n",
    "sub_mean = data.groupby(['Time'],as_index=False).mean()\n",
    "\n",
    "# obtain pup_mean, the mean pupil value across all timepoints (average of sub_mean)\n",
    "pup_mean = sub_mean['Interp'].mean()\n",
    "\n",
    "# label each timepoint in sub_mean as above, below, or equal to pup_mean\n",
    "sub_mean['mean_divide'] = np.nan\n",
    "sub_mean.loc[sub_mean['Interp']<pup_mean, 'mean_divide'] = 0\n",
    "sub_mean.loc[sub_mean['Interp']>pup_mean, 'mean_divide'] = 2\n",
    "sub_mean.loc[sub_mean['Interp']==pup_mean, 'mean_divide'] = 1\n",
    "mean_div_list = list(sub_mean['mean_divide'])\n",
    "\n",
    "# for each labeled timepoint\n",
    "for idx,x in enumerate(mean_div_list):\n",
    "    \n",
    "    # if its label does not match the timepoints immediately to its right and left\n",
    "    # switch its label to match its neighbors\n",
    "    if x != mean_div_list[idx-1] and x!= mean_div_list[idx+1]:\n",
    "        if mean_div_list[idx-1] == mean_div_list[idx+1]:\n",
    "            mean_div_list[idx] = mean_div_list[idx+1]\n",
    "            print('fixed one at index:'+str(idx))\n",
    "        else:\n",
    "            print(\"issue!\")\n",
    "\n",
    "# add updated timepoint labels to sub_mean df\n",
    "sub_mean['mean_divide'] = mean_div_list\n",
    "\n",
    "# for every row (ie every timepoint) color by timepoint label\n",
    "for row in sub_mean[sub_mean['mean_divide']==0].iterrows():\n",
    "    plt.vlines(row[1]['Time'], -1,1, color='green')\n",
    "\n",
    "for row in sub_mean[sub_mean['mean_divide']==2].iterrows():\n",
    "    plt.vlines(row[1]['Time'], -1,1, color='red')\n",
    "\n",
    "for row in sub_mean[sub_mean['mean_divide']==1].iterrows():\n",
    "    plt.vlines(row[1]['Time'], -1,1, color='black')\n",
    "\n",
    "# MAKE BINS --> bin timepoints by timepoint labels\n",
    "\n",
    "# initialize first bin at timepoint 0\n",
    "bins=[0]\n",
    "\n",
    "# for each point where labels change, \n",
    "# record the two timepoints on noth sides of the switch\n",
    "for idx,row in sub_mean.iterrows():\n",
    "    if idx != 0:\n",
    "        if row['mean_divide']!=sub_mean['mean_divide'][idx-1]:\n",
    "            bins.append(sub_mean['Time'][idx-1])\n",
    "            bins.append(row['Time'])\n",
    "\n",
    "# end last bin at last timepoint\n",
    "bins.append(3)\n",
    "\n",
    "# make bin times df and save to csv\n",
    "key_name = 'Both'; filename = 'all_prev_seen_memory_bins.csv'\n",
    "bin_df = pd.DataFrame({key_name:bins})\n",
    "bin_df.to_csv(filename)\n",
    "\n",
    "# for each bin edgepoint\n",
    "for b in bins:\n",
    "    \n",
    "    # plot a black line\n",
    "    plt.vlines(b, -1,1, color='black')\n",
    "\n",
    "# also plot pup_mean as a horizontal line\n",
    "plt.hlines(pup_mean, 0, 3, color='black', linewidth=1)\n",
    "\n",
    "# and plot sub_mean as pupillary timecourse\n",
    "sb.lineplot(x='Time', y='Interp', data=sub_mean, color='black')\n",
    "plt.title('All Novel Recall Trials', size=20)\n",
    "plt.xlim((0 , 3)); plt.ylim((-1, 1)); plt.tick_params(labelsize=20)\n",
    "plt.xlabel(\"Time from image onset (s)\", size = 20); plt.ylabel(\"Pupil diameter (z-score)\", size = 20)\n",
    "\n",
    "name = 'all_prev_seen_memory_Red_Green.pdf'\n",
    "plt.savefig(name)\n",
    "plt.show()"
   ]
  },
  {
   "cell_type": "markdown",
   "metadata": {},
   "source": [
    "# Figure 3"
   ]
  },
  {
   "cell_type": "markdown",
   "metadata": {},
   "source": [
    "### Both experiments: mean chunk, prev seen, attn level w/ stats"
   ]
  },
  {
   "cell_type": "code",
   "execution_count": 15,
   "metadata": {},
   "outputs": [
    {
     "name": "stdout",
     "output_type": "stream",
     "text": [
      "Full\n"
     ]
    },
    {
     "data": {
      "image/png": "[encoded data removed]",
      "text/plain": [
       "<Figure size 216x288 with 1 Axes>"
      ]
     },
     "metadata": {
      "needs_background": "light"
     },
     "output_type": "display_data"
    },
    {
     "name": "stdout",
     "output_type": "stream",
     "text": [
      "chunk 2, 1 vs 4\n",
      "Ttest_indResult(statistic=-2.1358355165799243, pvalue=0.03543868601438686)\n",
      "chunk 3, 1 vs 4\n",
      "Ttest_indResult(statistic=-2.805170987613999, pvalue=0.006175363381372737)\n",
      "chunk 3, 2 vs 4\n",
      "Ttest_indResult(statistic=-2.057405068221829, pvalue=0.042358785385567164)\n",
      "chunk 3, 3 vs 4\n",
      "Ttest_indResult(statistic=-2.2364949627937927, pvalue=0.027634326596541418)\n",
      "\n",
      "\n",
      "Side\n"
     ]
    },
    {
     "data": {
      "image/png": "[encoded data removed]",
      "text/plain": [
       "<Figure size 216x288 with 1 Axes>"
      ]
     },
     "metadata": {
      "needs_background": "light"
     },
     "output_type": "display_data"
    },
    {
     "name": "stdout",
     "output_type": "stream",
     "text": [
      "\n",
      "\n",
      "Category\n"
     ]
    },
    {
     "data": {
      "image/png": "[encoded data removed]",
      "text/plain": [
       "<Figure size 216x288 with 1 Axes>"
      ]
     },
     "metadata": {
      "needs_background": "light"
     },
     "output_type": "display_data"
    },
    {
     "name": "stdout",
     "output_type": "stream",
     "text": [
      "chunk 3, 1 vs 4\n",
      "Ttest_indResult(statistic=-2.6838787579234484, pvalue=0.008862502634636686)\n",
      "chunk 3, 2 vs 4\n",
      "Ttest_indResult(statistic=-3.158643513307306, pvalue=0.0022030136399066335)\n",
      "chunk 4, 3 vs 4\n",
      "Ttest_indResult(statistic=-1.9516858317798067, pvalue=0.05434808713588071)\n",
      "\n",
      "\n",
      "None\n"
     ]
    },
    {
     "data": {
      "image/png": "[encoded data removed]",
      "text/plain": [
       "<Figure size 216x288 with 1 Axes>"
      ]
     },
     "metadata": {
      "needs_background": "light"
     },
     "output_type": "display_data"
    },
    {
     "name": "stdout",
     "output_type": "stream",
     "text": [
      "chunk 1, 2 vs 4\n",
      "Ttest_indResult(statistic=3.312728021501733, pvalue=0.0014022603299162256)\n",
      "\n",
      "\n"
     ]
    }
   ],
   "source": [
    "these_bins = pd.read_csv('all_prev_seen_memory_bins.csv')\n",
    "\n",
    "d_nov_place = d_nov[(d_nov['Attention Level'].isin(['Full','Side','Category','None']))]\n",
    "\n",
    "attn_group = d_nov_place.groupby(['Experiment','UniqueID','Familiarity Rating', 'Attention Level',\n",
    "                                  'Time', 'Category'], as_index=False).mean()\n",
    "\n",
    "for e in ['Full','Side','Category','None']:\n",
    "    \n",
    "    print(e) \n",
    "        \n",
    "    data=attn_group[(attn_group['Attention Level']==e)].groupby(['UniqueID','Time',\n",
    "                                                        'Familiarity Rating'], \n",
    "                                                                 as_index=False).mean()\n",
    "\n",
    "    plt.figure(figsize=(3, 4));\n",
    "    sb.lineplot(x='Time', y='Interp', data=data, \n",
    "                hue='Familiarity Rating', linewidth = 2, \n",
    "                palette=\"RdBu\", legend=False)\n",
    "    plt.show()\n",
    "\n",
    "    binnies =  these_bins\n",
    "    binnies = list(binnies['Both'])\n",
    "\n",
    "    # for each chunk\n",
    "    chunk_1 = attn_group[(attn_group['Attention Level']==e)&(attn_group['Time']>=binnies[0])\n",
    "                         &(attn_group['Time']<=binnies[1])]\n",
    "    chunk_1 = chunk_1.groupby(['UniqueID','Familiarity Rating'], as_index=False).mean()\n",
    "\n",
    "    for a in [(1,2), (1,3), (1,4), (2,3), (2,4), (3, 4)]:\n",
    "        stat = scipy.stats.ttest_ind(chunk_1[chunk_1['Familiarity Rating']==a[0]]['Interp'],\n",
    "                                    chunk_1[chunk_1['Familiarity Rating']==a[1]]['Interp'])\n",
    "        if stat.pvalue<=.06:\n",
    "            print('chunk 1, '+str(a[0])+\" vs \"+str(a[1]))\n",
    "            print(stat)\n",
    "\n",
    "    chunk_2 = attn_group[(attn_group['Attention Level']==e)&(attn_group['Time']>=binnies[2])\n",
    "                         &(attn_group['Time']<=binnies[3])]\n",
    "    chunk_2 = chunk_2.groupby(['UniqueID','Familiarity Rating'], as_index=False).mean()\n",
    "\n",
    "    for a in [(1,2), (1,3), (1,4), (2,3), (2,4), (3, 4)]:\n",
    "        stat = scipy.stats.ttest_ind(chunk_2[chunk_2['Familiarity Rating']==a[0]]['Interp'],\n",
    "                                    chunk_2[chunk_2['Familiarity Rating']==a[1]]['Interp'])\n",
    "        if stat.pvalue<=.06:\n",
    "            print('chunk 2, '+str(a[0])+\" vs \"+str(a[1]))\n",
    "            print(stat)\n",
    "\n",
    "    chunk_3 = attn_group[(attn_group['Attention Level']==e)\n",
    "                         &(attn_group['Time']>=binnies[4])&(attn_group['Time']<=binnies[5])]\n",
    "    chunk_3 = chunk_3.groupby(['UniqueID','Familiarity Rating'], as_index=False).mean()\n",
    "    \n",
    "    for a in [(1,2), (1,3), (1,4), (2,3), (2,4), (3, 4)]:\n",
    "        stat = scipy.stats.ttest_ind(chunk_3[chunk_3['Familiarity Rating']==a[0]]['Interp'],\n",
    "                                    chunk_3[chunk_3['Familiarity Rating']==a[1]]['Interp'])\n",
    "        if stat.pvalue<=.06:\n",
    "            print('chunk 3, '+str(a[0])+\" vs \"+str(a[1]))\n",
    "            print(stat)\n",
    "\n",
    "    chunk_4 = attn_group[(attn_group['Attention Level']==e)\n",
    "                         &(attn_group['Time']>=binnies[5])&(attn_group['Time']<=binnies[6])]\n",
    "    chunk_4 = chunk_4.groupby(['UniqueID','Familiarity Rating'], as_index=False).mean()\n",
    "    \n",
    "    for a in [(1,2), (1,3), (1,4), (2,3), (2,4), (3, 4)]:\n",
    "        stat = scipy.stats.ttest_ind(chunk_4[chunk_4['Familiarity Rating']==a[0]]['Interp'],\n",
    "                                chunk_4[chunk_4['Familiarity Rating']==a[1]]['Interp'])\n",
    "    if stat.pvalue<=.06:\n",
    "        print('chunk 4, '+str(a[0])+\" vs \"+str(a[1]))\n",
    "        print(stat)\n",
    "\n",
    "    chunk_5 = attn_group[(attn_group['Attention Level']==e)\n",
    "                         &(attn_group['Time']>=binnies[7])&(attn_group['Time']<=binnies[8])]\n",
    "    chunk_5 = chunk_5.groupby(['UniqueID','Familiarity Rating'], as_index=False).mean()\n",
    "    \n",
    "    for a in [(1,2), (1,3), (1,4), (2,3), (2,4), (3, 4)]:\n",
    "        stat = scipy.stats.ttest_ind(chunk_5[chunk_5['Familiarity Rating']==a[0]]['Interp'],\n",
    "                                chunk_5[chunk_5['Familiarity Rating']==a[1]]['Interp'])\n",
    "    if stat.pvalue<=.06:\n",
    "        \n",
    "        print('chunk 5, '+str(a[0])+\" vs \"+str(a[1]))\n",
    "        print(stat)\n",
    "        \n",
    "    print();print()\n"
   ]
  },
  {
   "cell_type": "markdown",
   "metadata": {},
   "source": [
    "### Both experiments: mean chunking for novel images"
   ]
  },
  {
   "cell_type": "code",
   "execution_count": 16,
   "metadata": {},
   "outputs": [
    {
     "data": {
      "image/png": "[encoded data removed]",
      "text/plain": [
       "<Figure size 216x288 with 1 Axes>"
      ]
     },
     "metadata": {
      "needs_background": "light"
     },
     "output_type": "display_data"
    }
   ],
   "source": [
    "# group gaze data by experiment, participant, time, attention level\n",
    "attn_group = d_nov.groupby(['Experiment','UniqueID','Time',\n",
    "                            'Attention Level'], as_index=False).mean()\n",
    "\n",
    "plt.figure(figsize=(3, 4));  \n",
    "\n",
    "# group prev seen images by participant and timepoint\n",
    "data=attn_group[(attn_group['Attention Level'].isin(['Novel_Cued_Cat',\n",
    "                                                    'Novel_Uncued_Cat']))].groupby(['UniqueID','Time'], as_index=False).mean()\n",
    "\n",
    "# sub_mean df has mean across all participants at each timepoint\n",
    "sub_mean = data.groupby(['Time'],as_index=False).mean()\n",
    "\n",
    "# obtain pup_mean, the mean pupil value across all timepoints (average of sub_mean)\n",
    "pup_mean = sub_mean['Interp'].mean()\n",
    "\n",
    "# label each timepoint in sub_mean as above, below, or equal to pup_mean\n",
    "sub_mean['mean_divide'] = np.nan\n",
    "sub_mean.loc[sub_mean['Interp']<pup_mean, 'mean_divide']  = 0\n",
    "sub_mean.loc[sub_mean['Interp']>pup_mean, 'mean_divide']  = 2\n",
    "sub_mean.loc[sub_mean['Interp']==pup_mean, 'mean_divide'] = 1\n",
    "mean_div_list = list(sub_mean['mean_divide'])\n",
    "\n",
    "# for each labeled timepoint\n",
    "for idx,x in enumerate(mean_div_list):\n",
    "    \n",
    "    # if its label does not match the timepoints immediately to its right and left\n",
    "    # switch its label to match its neighbors\n",
    "    if x != mean_div_list[idx-1] and x!= mean_div_list[idx+1]:\n",
    "        if mean_div_list[idx-1] == mean_div_list[idx+1]:\n",
    "            mean_div_list[idx] = mean_div_list[idx+1]\n",
    "            print('fixed one at index:'+str(idx))\n",
    "        else:\n",
    "            print(\"issue!\")\n",
    "\n",
    "# add updated timepoint labels to sub_mean df\n",
    "sub_mean['mean_divide'] = mean_div_list\n",
    "\n",
    "# for every row (ie every timepoint) color by timepoint label\n",
    "for row in sub_mean[sub_mean['mean_divide']==0].iterrows():\n",
    "    plt.vlines(row[1]['Time'], -1,1, color='green')\n",
    "\n",
    "for row in sub_mean[sub_mean['mean_divide']==2].iterrows():\n",
    "    plt.vlines(row[1]['Time'], -1,1, color='red')\n",
    "\n",
    "for row in sub_mean[sub_mean['mean_divide']==1].iterrows():\n",
    "    plt.vlines(row[1]['Time'], -1,1, color='black')\n",
    "\n",
    "# MAKE BINS --> bin timepoints by timepoint labels\n",
    "\n",
    "# initialize first bin at timepoint 0\n",
    "bins=[0]\n",
    "\n",
    "# for each point where labels change, \n",
    "# record the two timepoints on noth sides of the switch\n",
    "for idx,row in sub_mean.iterrows():\n",
    "    if idx != 0:\n",
    "        if row['mean_divide']!=sub_mean['mean_divide'][idx-1]:\n",
    "            bins.append(sub_mean['Time'][idx-1])\n",
    "            bins.append(row['Time'])\n",
    "\n",
    "# end last bin at last timepoint\n",
    "bins.append(3)\n",
    "\n",
    "# make bin times df and save to csv\n",
    "key_name = 'Both'; filename = 'all_novel_memory_bins.csv'\n",
    "bin_df = pd.DataFrame({key_name:bins})\n",
    "bin_df.to_csv(filename)\n",
    "\n",
    "# for each bin edgepoint\n",
    "for b in bins:\n",
    "    \n",
    "    # plot a black line\n",
    "    plt.vlines(b, -1,1, color='black')\n",
    "\n",
    "# also plot pup_mean as a horizontal line\n",
    "plt.hlines(pup_mean, 0, 3, color='black', linewidth=1)\n",
    "\n",
    "# and plot sub_mean as pupillary timecourse\n",
    "sb.lineplot(x='Time', y='Interp', data=sub_mean, color='black')\n",
    "plt.title('All Prev-Seen Recall Trials', size=20)\n",
    "plt.xlim((0 , 3)); plt.ylim((-1, 1)); plt.tick_params(labelsize=20)\n",
    "plt.xlabel(\"Time from image onset (s)\", size = 20); plt.ylabel(\"Pupil diameter (z-score)\", size = 20)\n",
    "\n",
    "name = 'all_novel_memory_Red_Green.pdf'\n",
    "plt.savefig(name)\n",
    "plt.show()"
   ]
  },
  {
   "cell_type": "markdown",
   "metadata": {},
   "source": [
    "# Figure 4"
   ]
  },
  {
   "cell_type": "markdown",
   "metadata": {},
   "source": [
    "### Both experiments: mean chunk, novel, category w/ stats"
   ]
  },
  {
   "cell_type": "code",
   "execution_count": 20,
   "metadata": {},
   "outputs": [
    {
     "name": "stdout",
     "output_type": "stream",
     "text": [
      "Face\n",
      "Novel_Cued_Category\n"
     ]
    },
    {
     "data": {
      "image/png": "[encoded data removed]",
      "text/plain": [
       "<Figure size 216x288 with 1 Axes>"
      ]
     },
     "metadata": {
      "needs_background": "light"
     },
     "output_type": "display_data"
    },
    {
     "name": "stdout",
     "output_type": "stream",
     "text": [
      "\n",
      "\n",
      "Place\n",
      "Novel_Cued_Category\n"
     ]
    },
    {
     "data": {
      "image/png": "[encoded data removed]",
      "text/plain": [
       "<Figure size 216x288 with 1 Axes>"
      ]
     },
     "metadata": {
      "needs_background": "light"
     },
     "output_type": "display_data"
    },
    {
     "name": "stdout",
     "output_type": "stream",
     "text": [
      "\n",
      "\n",
      "Face\n",
      "Novel_Uncued_Category\n"
     ]
    },
    {
     "data": {
      "image/png": "[encoded data removed]",
      "text/plain": [
       "<Figure size 216x288 with 1 Axes>"
      ]
     },
     "metadata": {
      "needs_background": "light"
     },
     "output_type": "display_data"
    },
    {
     "name": "stdout",
     "output_type": "stream",
     "text": [
      "\n",
      "\n",
      "Place\n",
      "Novel_Uncued_Category\n"
     ]
    },
    {
     "data": {
      "image/png": "[encoded data removed]",
      "text/plain": [
       "<Figure size 216x288 with 1 Axes>"
      ]
     },
     "metadata": {
      "needs_background": "light"
     },
     "output_type": "display_data"
    },
    {
     "name": "stdout",
     "output_type": "stream",
     "text": [
      "\n",
      "\n"
     ]
    }
   ],
   "source": [
    "these_bins = pd.read_csv('all_novel_memory_bins.csv')\n",
    "\n",
    "d_nov_place = d_nov[(d_nov['Attention Level'].isin(['Novel_Cued_Category','Novel_Uncued_Category']))]\n",
    "\n",
    "attn_group = d_nov_place.groupby(['Experiment','UniqueID','Familiarity Rating', 'Attention Level',\n",
    "                                  'Time', 'Category'], as_index=False).mean()\n",
    "\n",
    "for e in ['Novel_Cued_Category','Novel_Uncued_Category']:\n",
    "    for cat in ['Face','Place']:\n",
    "    \n",
    "        print(cat); print(e)\n",
    "\n",
    "        data=attn_group[(attn_group['Attention Level']==e)&(attn_group['Category']==cat)].groupby(['UniqueID','Time',\n",
    "                                                            'Familiarity Rating'], \n",
    "                                                                     as_index=False).mean()\n",
    "\n",
    "        plt.figure(figsize=(3, 4));\n",
    "        sb.lineplot(x='Time', y='Interp', data=data, \n",
    "                    hue='Familiarity Rating', linewidth = 2, \n",
    "                    palette=\"RdBu\", legend=False)\n",
    "        plt.show()\n",
    "\n",
    "        binnies =  these_bins\n",
    "        binnies =  list(binnies['Both'])\n",
    "\n",
    "        # for each chunk\n",
    "        chunk_1 = attn_group[(attn_group['Attention Level']==e)&(attn_group['Time']>=binnies[0])\n",
    "                             &(attn_group['Time']<=binnies[1])&(attn_group['Category']==cat)]\n",
    "        chunk_1 = chunk_1.groupby(['UniqueID','Familiarity Rating'], as_index=False).mean()\n",
    "\n",
    "        for a in [(1,2), (1,3), (1,4), (2,3), (2,4), (3, 4)]:\n",
    "            stat = scipy.stats.ttest_ind(chunk_1[chunk_1['Familiarity Rating']==a[0]]['Interp'],\n",
    "                                        chunk_1[chunk_1['Familiarity Rating']==a[1]]['Interp'])\n",
    "            if stat.pvalue<=.06:\n",
    "                print('chunk 1, '+str(a[0])+\" vs \"+str(a[1]))\n",
    "                print(stat)\n",
    "\n",
    "        chunk_2 = attn_group[(attn_group['Attention Level']==e)&(attn_group['Time']>=binnies[2])\n",
    "                             &(attn_group['Time']<=binnies[3])&(attn_group['Category']==cat)]\n",
    "        chunk_2 = chunk_2.groupby(['UniqueID','Familiarity Rating'], as_index=False).mean()\n",
    "\n",
    "        for a in [(1,2), (1,3), (1,4), (2,3), (2,4), (3, 4)]:\n",
    "            stat = scipy.stats.ttest_ind(chunk_2[chunk_2['Familiarity Rating']==a[0]]['Interp'],\n",
    "                                        chunk_2[chunk_2['Familiarity Rating']==a[1]]['Interp'])\n",
    "            if stat.pvalue<=.06:\n",
    "                print('chunk 2, '+str(a[0])+\" vs \"+str(a[1]))\n",
    "                print(stat)\n",
    "\n",
    "        chunk_3 = attn_group[(attn_group['Attention Level']==e)\n",
    "                             &(attn_group['Time']>=binnies[4])&(attn_group['Category']==cat)&(attn_group['Time']<=binnies[5])]\n",
    "        chunk_3 = chunk_3.groupby(['UniqueID','Familiarity Rating'], as_index=False).mean()\n",
    "\n",
    "        for a in [(1,2), (1,3), (1,4), (2,3), (2,4), (3, 4)]:\n",
    "            stat = scipy.stats.ttest_ind(chunk_3[chunk_3['Familiarity Rating']==a[0]]['Interp'],\n",
    "                                        chunk_3[chunk_3['Familiarity Rating']==a[1]]['Interp'])\n",
    "            if stat.pvalue<=.06:\n",
    "                print('chunk 3, '+str(a[0])+\" vs \"+str(a[1]))\n",
    "                print(stat)\n",
    "\n",
    "        chunk_4 = attn_group[(attn_group['Attention Level']==e)\n",
    "                             &(attn_group['Time']>=binnies[5])&(attn_group['Category']==cat)&(attn_group['Time']<=binnies[6])]\n",
    "        chunk_4 = chunk_4.groupby(['UniqueID','Familiarity Rating'], as_index=False).mean()\n",
    "\n",
    "        for a in [(1,2), (1,3), (1,4), (2,3), (2,4), (3, 4)]:\n",
    "            stat = scipy.stats.ttest_ind(chunk_4[chunk_4['Familiarity Rating']==a[0]]['Interp'],\n",
    "                                    chunk_4[chunk_4['Familiarity Rating']==a[1]]['Interp'])\n",
    "        if stat.pvalue<=.06:\n",
    "            print('chunk 4, '+str(a[0])+\" vs \"+str(a[1]))\n",
    "            print(stat)\n",
    "\n",
    "        chunk_5 = attn_group[(attn_group['Attention Level']==e)\n",
    "                             &(attn_group['Time']>=binnies[7])&(attn_group['Category']==cat)&(attn_group['Time']<=binnies[8])]\n",
    "        chunk_5 = chunk_5.groupby(['UniqueID','Familiarity Rating'], as_index=False).mean()\n",
    "\n",
    "        for a in [(1,2), (1,3), (1,4), (2,3), (2,4), (3, 4)]:\n",
    "            stat = scipy.stats.ttest_ind(chunk_5[chunk_5['Familiarity Rating']==a[0]]['Interp'],\n",
    "                                    chunk_5[chunk_5['Familiarity Rating']==a[1]]['Interp'])\n",
    "        if stat.pvalue<=.06:\n",
    "\n",
    "            print('chunk 5, '+str(a[0])+\" vs \"+str(a[1]))\n",
    "            print(stat)\n",
    "\n",
    "        print();print()\n"
   ]
  }
 ],
 "metadata": {
  "kernelspec": {
   "display_name": "Python 3",
   "language": "python",
   "name": "python3"
  },
  "language_info": {
   "codemirror_mode": {
    "name": "ipython",
    "version": 3
   },
   "file_extension": ".py",
   "mimetype": "text/x-python",
   "name": "python",
   "nbconvert_exporter": "python",
   "pygments_lexer": "ipython3",
   "version": "3.7.4"
  }
 },
 "nbformat": 4,
 "nbformat_minor": 2
}
